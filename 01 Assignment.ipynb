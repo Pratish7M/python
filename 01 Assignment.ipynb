{
 "cells": [
  {
   "cell_type": "code",
   "execution_count": 33,
   "metadata": {},
   "outputs": [
    {
     "name": "stdout",
     "output_type": "stream",
     "text": [
      "tuple\n",
      "[1, 5, 7, 9, 1, [100, 10, 21], 'pratish']\n",
      "{65, 2, 3, 1, 165}\n",
      "1.25\n"
     ]
    }
   ],
   "source": [
    "# Q1. Create one variable containing following type of data:\n",
    "# (i) string\n",
    "# (ii) list\n",
    "# (iii) float\n",
    "# (iv) tuple\n",
    "\n",
    "string = \" hello my name is pratish,i am a data scientist and i working at Meta \"\n",
    "string\n",
    "\n",
    "tuple = ('pratish','datascience',21,58,79,'$')\n",
    "print('tuple')\n",
    "\n",
    "list = [1,5,7,9,1,[100,10,21],'pratish']\n",
    "print(list)\n",
    "\n",
    "set = {1,2,3,65,2,165}\n",
    "print(set)\n",
    "\n",
    "float = 1.25\n",
    "print(float)"
   ]
  },
  {
   "cell_type": "code",
   "execution_count": 34,
   "metadata": {},
   "outputs": [
    {
     "name": "stdout",
     "output_type": "stream",
     "text": [
      "<class 'str'>\n",
      "<class 'str'>\n",
      "<class 'list'>\n",
      "<class 'int'>\n"
     ]
    }
   ],
   "source": [
    "# Q2. Given are some following variables containing data:\n",
    "# (i) var1 = ‘ ‘\n",
    "# (ii) var2 = ‘[ DS , ML , Python]’\n",
    "# (iii) var3 = [ ‘DS’ , ’ML’ , ‘Python’ ]\n",
    "# (iv) var4 = 1.\n",
    "# What will be the data type of the above given variable.\n",
    "\n",
    "var1 = ' '\n",
    "var2 = '[ DS , ML , Python]'\n",
    "var3 = ['DS','ML','Python']\n",
    "var4 = 1\n",
    "\n",
    "print(type(var1))\n",
    "print(type(var2))\n",
    "print(type(var3))\n",
    "print(type(var4))"
   ]
  },
  {
   "cell_type": "code",
   "execution_count": 35,
   "metadata": {},
   "outputs": [
    {
     "name": "stdout",
     "output_type": "stream",
     "text": [
      "10.0\n",
      "0\n",
      "10\n",
      "25\n"
     ]
    }
   ],
   "source": [
    "# What will be the data type of the above given variable.\n",
    "# Q3. Explain the use of the following operators using an example:\n",
    "# (i) /\n",
    "# (ii) %\n",
    "# (iii) //\n",
    "# (iv) **\n",
    "\n",
    "a = 50\n",
    "b = 5\n",
    "\n",
    "#divide operator\n",
    "print(a/b)\n",
    "\n",
    "#modulas\n",
    "print(a%b)\n",
    "\n",
    "#divide and get answer in int form\n",
    "print(a//b)\n",
    "\n",
    "#square\n",
    "# square of 5 = 25\n",
    "print(b**2)\n"
   ]
  },
  {
   "cell_type": "code",
   "execution_count": 36,
   "metadata": {},
   "outputs": [
    {
     "name": "stdout",
     "output_type": "stream",
     "text": [
      "element :  1 ,data type :  <class 'int'>\n",
      "element :  2 ,data type :  <class 'int'>\n",
      "element :  pratish ,data type :  <class 'str'>\n",
      "element :  7.77 ,data type :  <class 'float'>\n",
      "element :  [25, 45, 75] ,data type :  <class 'list'>\n",
      "element :  True ,data type :  <class 'bool'>\n",
      "element :  False ,data type :  <class 'bool'>\n",
      "element :  a ,data type :  <class 'str'>\n",
      "element :  100j ,data type :  <class 'complex'>\n",
      "element :  # ,data type :  <class 'str'>\n",
      "element :  hello fm ,data type :  <class 'str'>\n"
     ]
    }
   ],
   "source": [
    "# Q4. Create a list of length 10 of your choice containing multiple types of data. Using for loop print the\n",
    "# element and its data type.\n",
    "\n",
    "list = [1,2,'pratish',7.77,[25,45,75],True,False,'a',a*2j,'#','hello fm']\n",
    "\n",
    "for i in list :\n",
    "    print('element : ',i,',data type : ',type(i))"
   ]
  },
  {
   "cell_type": "code",
   "execution_count": 37,
   "metadata": {},
   "outputs": [
    {
     "name": "stdout",
     "output_type": "stream",
     "text": [
      "15 is puerly divisible by 3\n",
      "and 5 times it can be divisible\n"
     ]
    }
   ],
   "source": [
    "# Q5. Using a while loop, verify if the number A is purely divisible by number B and if so then how many\n",
    "# times it can be divisible.\n",
    "\n",
    "a = 15\n",
    "b = 3\n",
    "\n",
    "while a%b == 0:\n",
    "    print(f\"{a} is puerly divisible by {b}\\nand {int(a/b)} times it can be divisible\")\n",
    "    break\n",
    "else : \n",
    "    print(f\"{a} is not puerly divisible by {b}\")\n"
   ]
  },
  {
   "cell_type": "code",
   "execution_count": 1,
   "metadata": {},
   "outputs": [
    {
     "name": "stdout",
     "output_type": "stream",
     "text": [
      "1 is not divisible by 3\n",
      "2 is not divisible by 3\n",
      "3 is divisible by 3\n",
      "4 is not divisible by 3\n",
      "5 is not divisible by 3\n",
      "6 is divisible by 3\n",
      "7 is not divisible by 3\n",
      "8 is not divisible by 3\n",
      "9 is divisible by 3\n",
      "10 is not divisible by 3\n",
      "11 is not divisible by 3\n",
      "12 is divisible by 3\n",
      "13 is not divisible by 3\n",
      "14 is not divisible by 3\n",
      "15 is divisible by 3\n",
      "16 is not divisible by 3\n",
      "17 is not divisible by 3\n",
      "18 is divisible by 3\n",
      "19 is not divisible by 3\n",
      "20 is not divisible by 3\n",
      "21 is divisible by 3\n",
      "22 is not divisible by 3\n",
      "23 is not divisible by 3\n",
      "24 is divisible by 3\n",
      "25 is not divisible by 3\n"
     ]
    }
   ],
   "source": [
    "\n",
    "# Q6. Create a list containing 25 int type data. Using for loop and if-else condition print if the element is\n",
    "# divisible by 3 or not.\n",
    "\n",
    "a = list(range(1,26))\n",
    "type(a)\n",
    "\n",
    "for i in a :\n",
    "    if (i%3 == 0):\n",
    "        print(f\"{i} is divisible by 3\")\n",
    "    else : \n",
    "        print(f\"{i} is not divisible by 3\")\n"
   ]
  },
  {
   "cell_type": "code",
   "execution_count": null,
   "metadata": {},
   "outputs": [
    {
     "name": "stdout",
     "output_type": "stream",
     "text": [
      "[1, 2, 3, 4, 5]\n",
      "[1, 2, 3, 4, 5, 6]\n"
     ]
    }
   ],
   "source": [
    "# Q7. What do you understand about mutable and immutable data types? Give examples for both showing\n",
    "# this property.\n",
    "\n",
    "#list is mutable \n",
    "\n",
    "l1 = [1,2,3,4,5]\n",
    "print(l1)\n",
    "l1.insert(5, 6) \n",
    "print(l1)\n",
    "\n"
   ]
  },
  {
   "cell_type": "code",
   "execution_count": 39,
   "metadata": {},
   "outputs": [
    {
     "name": "stdout",
     "output_type": "stream",
     "text": [
      "(1, 2, 3, 4, 5)\n"
     ]
    }
   ],
   "source": [
    "tuple = (1,2,3,4,5)\n",
    "print(tuple)\n",
    "# tuple.insert(5,6) # we cannot change tuple after once created\n",
    "# print(tuple)"
   ]
  }
 ],
 "metadata": {
  "kernelspec": {
   "display_name": "Python 3",
   "language": "python",
   "name": "python3"
  },
  "language_info": {
   "codemirror_mode": {
    "name": "ipython",
    "version": 3
   },
   "file_extension": ".py",
   "mimetype": "text/x-python",
   "name": "python",
   "nbconvert_exporter": "python",
   "pygments_lexer": "ipython3",
   "version": "3.11.2"
  },
  "orig_nbformat": 4
 },
 "nbformat": 4,
 "nbformat_minor": 2
}
