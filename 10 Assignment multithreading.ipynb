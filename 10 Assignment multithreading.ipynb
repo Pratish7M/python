{
 "cells": [
  {
   "cell_type": "code",
   "execution_count": 30,
   "metadata": {},
   "outputs": [
    {
     "data": {
      "text/plain": [
       "'\\nMultithreading in Python refers to the ability of a program to execute multiple threads (smaller units of execution) concurrently \\nwithin the same process. A thread is a separate sequence of instructions that can run independently, allowing for concurrent \\nexecution and improved performance in certain scenarios.\\n\\nPython\\'s multithreading capabilities are useful when you have tasks that can run independently and concurrently, such as handling \\nmultiple I/O operations, network requests, or computationally intensive operations. By utilizing multiple threads, you can achieve \\nparallelism and take advantage of available system resources, such as multiple CPU cores.\\n\\nHowever, it\\'s important to note that Python\\'s multithreading model, known as \"threading,\" has limitations due to the Global Interpreter\\nLock (GIL). The GIL allows only one thread to execute Python bytecode at a time, essentially preventing true parallelism for CPU-bound \\ntasks. Consequently, multithreading in Python is most effective for I/O-bound tasks, where the threads spend most of their time waiting \\nfor I/O operations to complete.\\n\\n\\nIn Python, the built-in threading module is commonly used to handle threads. It provides a high-level interface for creating and managing threads.\\n With this module, you can define a thread by subclassing the Thread class or by creating instances of the Thread class directly. The threading \\n module offers synchronization primitives like locks, semaphores, and condition variables to coordinate access to shared resources and avoid \\n race conditions.\\n\\n\\n'"
      ]
     },
     "execution_count": 30,
     "metadata": {},
     "output_type": "execute_result"
    }
   ],
   "source": [
    "'''what is multithreading in python? hy is it used? Name the module used to handle threads in python'''\n",
    "\n",
    "\n",
    "\n",
    "# Answer : \n",
    "\n",
    "\n",
    "\n",
    "'''\n",
    "Multithreading in Python refers to the ability of a program to execute multiple threads (smaller units of execution) concurrently \n",
    "within the same process. A thread is a separate sequence of instructions that can run independently, allowing for concurrent \n",
    "execution and improved performance in certain scenarios.\n",
    "\n",
    "Python's multithreading capabilities are useful when you have tasks that can run independently and concurrently, such as handling \n",
    "multiple I/O operations, network requests, or computationally intensive operations. By utilizing multiple threads, you can achieve \n",
    "parallelism and take advantage of available system resources, such as multiple CPU cores.\n",
    "\n",
    "However, it's important to note that Python's multithreading model, known as \"threading,\" has limitations due to the Global Interpreter\n",
    "Lock (GIL). The GIL allows only one thread to execute Python bytecode at a time, essentially preventing true parallelism for CPU-bound \n",
    "tasks. Consequently, multithreading in Python is most effective for I/O-bound tasks, where the threads spend most of their time waiting \n",
    "for I/O operations to complete.\n",
    "\n",
    "\n",
    "In Python, the built-in threading module is commonly used to handle threads. It provides a high-level interface for creating and managing threads.\n",
    " With this module, you can define a thread by subclassing the Thread class or by creating instances of the Thread class directly. The threading \n",
    " module offers synchronization primitives like locks, semaphores, and condition variables to coordinate access to shared resources and avoid \n",
    " race conditions.\n",
    "\n",
    "\n",
    "'''"
   ]
  },
  {
   "cell_type": "code",
   "execution_count": 39,
   "metadata": {},
   "outputs": [
    {
     "name": "stderr",
     "output_type": "stream",
     "text": [
      "[MainThread]: 6\n",
      "C:\\Users\\HP\\AppData\\Local\\Temp\\ipykernel_12988\\264185720.py:31: DeprecationWarning: currentThread() is deprecated, use current_thread() instead\n",
      "  logging.debug( threading.currentThread())\n",
      "[MainThread]: <_MainThread(MainThread, started 8748)>\n",
      "[MainThread]: <_MainThread(MainThread, started 8748)>\n",
      "[MainThread]: <Thread(IOPub, started daemon 10200)>\n",
      "[MainThread]: <Heartbeat(Heartbeat, started daemon 3224)>\n",
      "[MainThread]: <ControlThread(Control, started daemon 8304)>\n",
      "[MainThread]: <HistorySavingThread(IPythonHistorySavingThread, started 9660)>\n",
      "[MainThread]: <ParentPollerWindows(Thread-4, started daemon 16784)>\n"
     ]
    }
   ],
   "source": [
    "'''   Q2. why threading module used? rite the use of the following functions\n",
    "( activeCount\n",
    " currentThread\n",
    " enumerate)         '''\n",
    "\n",
    "\n",
    "#Answer  :\n",
    "\n",
    "\n",
    "'''   \n",
    "The threading module in Python is used for creating and managing threads within a program. It provides a high-level \n",
    "interface for working with threads, allowing you to create, start, stop, and synchronize threads. The threading module \n",
    "is commonly used when you want to achieve concurrent execution of tasks and handle multiple threads in your program.\n",
    "\n",
    "Now, let's explore the functions which mentioned :\n",
    "\n",
    "activeCount(): This function returns the number of Thread objects currently alive. It provides the count of active \n",
    "threads that are currently running or have been started and have not yet finished or been terminated.  '''\n",
    "\n",
    "import threading\n",
    "import logging \n",
    "\n",
    "logging.basicConfig(level = logging.DEBUG , format='%(message)s')\n",
    "\n",
    "logging.debug(threading.active_count())\n",
    "\n",
    "\n",
    "'''currentThread(): This function returns the currently executing Thread object, representing the thread from which it \n",
    "is called. It is useful to identify the current thread and perform operations or obtain information about it.'''\n",
    "\n",
    "logging.debug( threading.currentThread())\n",
    "\n",
    "\n",
    "'''enumerate(): This function returns a list of all active Thread objects in the current program. It provides a way \n",
    "to iterate over all the threads currently alive, allowing you to access and manipulate each thread as needed'''\n",
    "\n",
    "thread_list = threading.enumerate()\n",
    "\n",
    "for thread in thread_list:\n",
    "    logging.debug(thread)"
   ]
  },
  {
   "cell_type": "code",
   "execution_count": 38,
   "metadata": {},
   "outputs": [
    {
     "name": "stderr",
     "output_type": "stream",
     "text": [
      "[Thread-41 (test)]: 5\n"
     ]
    }
   ],
   "source": [
    "'''   Q3.  Explain the following functions\n",
    "( run\n",
    " start\n",
    " join\n",
    "' isAlive)         '''\n",
    "\n",
    "\n",
    "#Answer  :\n",
    "\n",
    "\n",
    "'''   run(): This method is defined in the Thread class and contains the code that will be executed when \n",
    "a thread is started. It is the entry point for the thread's activity. You can override this method in a \n",
    "subclass to define the specific behavior of the thread. The run() method is automatically called when you \n",
    "start a thread using the start() method.\n",
    "\n",
    "start(): This method is used to start the execution of a thread. It creates a new thread and calls the run() \n",
    "method of that thread. The start() method sets the thread in motion and allows it to run concurrently with other \n",
    "threads in the program. Once the thread is started, its run() method will be executed in a separate thread of control. \n",
    "\n",
    "join(): This method is used to wait for a thread to complete its execution. When you call join() on a thread, the \n",
    "calling thread will pause and wait until the target thread finishes executing. This is particularly useful when \n",
    "you want to ensure that all threads have completed their tasks before continuing with further operations.\n",
    "\n",
    "isAlive(): This method is used to check if a thread is currently alive or active. It returns a boolean value \n",
    "indicating whether the thread is still running or has finished executing. If the thread has started but has \n",
    "not yet completed, isAlive() will return True; otherwise, it will return False.\n",
    "\n",
    "\n",
    "'''\n",
    "import threading\n",
    "import logging \n",
    "\n",
    "logging.basicConfig(level = logging.DEBUG , format='%(message)s')\n",
    "\n",
    "def test():\n",
    "    s = 2 + 3\n",
    "    logging.debug(s)\n",
    "\n",
    "my_thread = threading.Thread(target = test)\n",
    "\n",
    "my_thread.start()\n",
    "my_thread.join()\n",
    "\n",
    "if my_thread.isAlive():\n",
    "    logging.debug(\"Thread is still running.\")\n",
    "else:\n",
    "    logging.debug(\"Thread has completed.\")\n",
    "\n",
    "\n"
   ]
  },
  {
   "cell_type": "code",
   "execution_count": null,
   "metadata": {},
   "outputs": [
    {
     "name": "stderr",
     "output_type": "stream",
     "text": [
      "[Thread-37 (test1)]: 1\n"
     ]
    },
    {
     "name": "stdout",
     "output_type": "stream",
     "text": [
      "square\n",
      "cube\n"
     ]
    },
    {
     "name": "stderr",
     "output_type": "stream",
     "text": [
      "[Thread-38 (test1)]: 1\n",
      "[Thread-37 (test1)]: 4\n",
      "[Thread-38 (test1)]: 8\n",
      "[Thread-37 (test1)]: 9\n"
     ]
    },
    {
     "name": "stderr",
     "output_type": "stream",
     "text": [
      "[Thread-38 (test1)]: 27\n",
      "[Thread-37 (test1)]: 16\n",
      "[Thread-38 (test1)]: 64\n",
      "[Thread-37 (test1)]: 25\n",
      "[Thread-38 (test1)]: 125\n",
      "[Thread-37 (test1)]: 36\n",
      "[Thread-38 (test1)]: 216\n",
      "[Thread-37 (test1)]: 49\n",
      "[Thread-38 (test1)]: 343\n",
      "[Thread-37 (test1)]: 64\n",
      "[Thread-38 (test1)]: 512\n",
      "[Thread-37 (test1)]: 81\n",
      "[Thread-38 (test1)]: 729\n",
      "[Thread-37 (test1)]: 100\n",
      "[Thread-38 (test1)]: 1000\n"
     ]
    }
   ],
   "source": [
    "''' Q4.  State advantages and disadvantages of multithreading           '''\n",
    "\n",
    "\n",
    "#Answer  :\n",
    "\n",
    "\n",
    "'''     '''\n",
    "import logging \n",
    "\n",
    "logging.basicConfig(level = logging.DEBUG , format='%(message)s')\n",
    "\n",
    "\n",
    "def test1(input):\n",
    "    print(input)\n",
    "    if input == \"square\" :\n",
    "        for i in range(1,11):\n",
    "            logging.debug(i**2)\n",
    "    else :\n",
    "        \n",
    "        for i in range(1,11):\n",
    "            logging.debug(i**3)\n",
    "\n",
    "\n",
    "list =[\"square\",\"cube\"]\n",
    "\n",
    "\n",
    "thread = [threading.Thread(target = test1, args = (i,) ) for i in list]\n",
    "\n",
    "\n",
    "for t in thread:\n",
    "    t.start()\n"
   ]
  },
  {
   "cell_type": "code",
   "execution_count": null,
   "metadata": {},
   "outputs": [
    {
     "name": "stdout",
     "output_type": "stream",
     "text": [
      ".\n"
     ]
    }
   ],
   "source": [
    "'''     Q5.  State advantages and disadvantages of multithreading       '''\n",
    "\n",
    "\n",
    "#Answer  :\n",
    "\n",
    "\n",
    "'''  Advantages of Multithreading:\n",
    "\n",
    "Concurrent Execution: Multithreading allows multiple threads to execute concurrently within a program, \n",
    "enabling tasks to progress independently and potentially improve performance.\n",
    "\n",
    "Responsiveness: Multithreading enhances the responsiveness of a program by keeping the application interactive \n",
    "while performing time-consuming tasks in the background.\n",
    "\n",
    "Resource Sharing: Threads within a process can share the same memory space, enabling efficient sharing of \n",
    "data and resources between threads.\n",
    "\n",
    "Efficiency: Multithreading can improve overall system efficiency by making better use of available system \n",
    "resources, such as multiple CPU cores, and achieving parallelism for tasks that can be executed simultaneously.\n",
    "\n",
    "Simplified Design: Multithreading can simplify the design and implementation of complex applications by \n",
    "dividing them into smaller, manageable threads that can run independently and interact with each other \n",
    "through synchronization mechanisms.\n",
    "\n",
    "Disadvantages of Multithreading:\n",
    "\n",
    "Complexity: Multithreaded programming introduces additional complexity, making the code harder to design, \n",
    "understand, and debug. It requires careful synchronization and coordination to avoid issues like race \n",
    "conditions and deadlocks.\n",
    "\n",
    "Synchronization Overhead: When multiple threads access shared resources, synchronization mechanisms are \n",
    "necessary to coordinate their access. The overhead of synchronization can introduce additional computational \n",
    "cost and potential performance bottlenecks.\n",
    "\n",
    "Increased Debugging Difficulty: Debugging multithreaded programs can be challenging due to the non-deterministic \n",
    "nature of thread execution and the potential for subtle timing-related bugs.\n",
    "\n",
    "Resource Contentions: Multithreading can lead to resource contention issues when multiple threads compete for \n",
    "limited resources, such as shared data or I/O devices. This contention can cause performance degradation or \n",
    "even deadlocks if not properly managed.\n",
    "\n",
    "Scalability Limitations: In some cases, multithreading may not provide significant performance benefits due \n",
    "to limitations such as the Global Interpreter Lock (GIL) in Python or contention on a single shared resource, \n",
    "preventing true parallelism. '''\n",
    "\n"
   ]
  },
  {
   "cell_type": "code",
   "execution_count": null,
   "metadata": {},
   "outputs": [],
   "source": [
    "'''6. Explain deadlocks and race conditions.'''\n",
    "\n",
    "\n",
    "#Answer :\n",
    "\n",
    "\n",
    "'''\n",
    "\n",
    "Deadlock:\n",
    "A deadlock is a situation where two or more threads or processes are unable to proceed because each is waiting \n",
    "for the other to release a resource or complete a certain action. In other words, it is a state of mutual blocking, \n",
    "where none of the threads or processes can progress.\n",
    "\n",
    "\n",
    "Deadlocks typically occur due to a combination of four necessary conditions known as the \"deadlock conditions\":\n",
    "\n",
    "Mutual Exclusion: At least one resource must be held in a non-shareable mode, meaning only one thread or process \n",
    "can use it at a time.\n",
    "\n",
    "Hold and Wait: A thread or process must hold at least one resource while waiting to acquire additional resources.\n",
    "No Preemption: Resources cannot be forcibly taken away from a thread or process; they can only be released voluntarily.\n",
    "\n",
    "Circular Wait: There must be a circular chain of two or more threads or processes, where each is waiting for a \n",
    "resource held by another in the chain.\n",
    "\n",
    "Deadlocks can lead to system or program hang-ups, where none of the involved threads or processes can make progress. \n",
    "Detecting and resolving deadlocks can be complex and requires careful design and synchronization of resource \n",
    "usage to prevent the occurrence of the deadlock conditions.\n",
    "\n",
    "Race Condition:\n",
    "A race condition occurs when the behavior of a program depends on the relative timing or interleaving of multiple \n",
    "threads or processes accessing shared resources or variables. It arises when two or more threads access and modify\n",
    " a shared resource concurrently without proper synchronization.  \n",
    " \n",
    " \n",
    " '''"
   ]
  },
  {
   "cell_type": "code",
   "execution_count": null,
   "metadata": {},
   "outputs": [],
   "source": [
    "'''    '''\n",
    "\n"
   ]
  },
  {
   "cell_type": "code",
   "execution_count": null,
   "metadata": {},
   "outputs": [],
   "source": []
  }
 ],
 "metadata": {
  "kernelspec": {
   "display_name": "Python 3",
   "language": "python",
   "name": "python3"
  },
  "language_info": {
   "codemirror_mode": {
    "name": "ipython",
    "version": 3
   },
   "file_extension": ".py",
   "mimetype": "text/x-python",
   "name": "python",
   "nbconvert_exporter": "python",
   "pygments_lexer": "ipython3",
   "version": "3.11.2"
  },
  "orig_nbformat": 4
 },
 "nbformat": 4,
 "nbformat_minor": 2
}
