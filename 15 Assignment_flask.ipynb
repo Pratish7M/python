{
 "cells": [
  {
   "cell_type": "code",
   "execution_count": null,
   "id": "cdf1ca07",
   "metadata": {},
   "outputs": [],
   "source": [
    "''' Q1. What is Flask Framework? What are the advantages of Flask Framework? '''\n",
    "\n",
    "#ANSWER :\n",
    "\n",
    "\n",
    "'''  Flask is a micro web framework written in Python. It is designed to be lightweight, flexible, \n",
    "and easy to use, making it a popular choice for building web applications and APIs.\n",
    "\n",
    "Advantages of Flask Framework:\n",
    "\n",
    "1. Simplicity: Flask follows a minimalist philosophy, providing only the essentials for web development. \n",
    "It has a small and easy-to-understand codebase, which makes it approachable for developers of all skill levels.\n",
    "\n",
    "2. Flexibility: Flask allows developers to choose and integrate components based on their specific needs. \n",
    "It does not impose any particular directory structure or dependencies, giving developers the freedom to o\n",
    "rganize their code as they see fit.\n",
    "\n",
    "3. Extensibility: Flask provides a modular design, allowing developers to easily add or remove features using \n",
    "its extensive ecosystem of extensions. There are numerous Flask extensions available for tasks such as database \n",
    "integration, form validation, authentication, and more.\n",
    "\n",
    "4. Lightweight: Flask is known for its lightweight nature. It does not have a lot of overhead and does not\n",
    "require a large amount of code or resources to run. This makes it well-suited for developing efficient and \n",
    "fast applications.\n",
    "\n",
    "5. Testability: Flask provides a built-in testing framework that makes it easy to write and execute tests for \n",
    "your application. It provides tools for simulating requests, handling responses, and asserting expected behaviors, \n",
    "enabling developers to thoroughly test their code.\n",
    "\n",
    "6. Documentation and Community: Flask has extensive documentation that covers various aspects of the framework and \n",
    "provides helpful examples. Additionally, Flask has a large and active community of developers who contribute to its \n",
    "ecosystem, offer support, and share their knowledge and experiences.\n",
    "\n",
    "7. Pythonic: Flask embraces the Python programming language and its principles. It leverages Python's simplicity,\n",
    "readability, and expressive syntax, making it familiar and comfortable for Python developers.\n",
    "\n",
    "Overall, Flask offers a balance between simplicity and flexibility, making it an excellent choice for small to\n",
    "medium-sized web applications or APIs, where a lightweight and customizable framework is preferred.  '''"
   ]
  },
  {
   "cell_type": "code",
   "execution_count": null,
   "id": "bafd1040",
   "metadata": {},
   "outputs": [],
   "source": [
    "\n",
    "''' Q2. Create a simple Flask application to display ‘Hello World!!’. Attach the screenshot of the output in\n",
    "Jupyter Notebook. '''\n",
    "\n",
    "#ANSWER :\n",
    "\n",
    "\n",
    "from flask import Flask\n",
    "from flask import request\n",
    "\n",
    "app = Flask(__name__)\n",
    "\n",
    "@app.route(\"/\")\n",
    "def hello():\n",
    "    return \"<h1> hello world <h1>\"\n",
    "\n",
    "if __name__ == \"__main__\":\n",
    "    app.run(host=\"0.0.0.0\")\n"
   ]
  },
  {
   "cell_type": "markdown",
   "id": "d4bd4c87",
   "metadata": {},
   "source": [
    "![](flask.png)"
   ]
  },
  {
   "cell_type": "code",
   "execution_count": 17,
   "id": "f0e1f743",
   "metadata": {},
   "outputs": [
    {
     "data": {
      "text/plain": [
       "'C:\\\\Users\\\\HP\\\\Desktop\\\\jupyter_notebook'"
      ]
     },
     "execution_count": 17,
     "metadata": {},
     "output_type": "execute_result"
    }
   ],
   "source": [
    "import os \n",
    "cwd = os.getcwd()\n",
    "cwd"
   ]
  },
  {
   "cell_type": "markdown",
   "id": "5691259b",
   "metadata": {},
   "source": [
    "<img src = 'flask.png' >"
   ]
  },
  {
   "cell_type": "code",
   "execution_count": null,
   "id": "0f5e5f31",
   "metadata": {},
   "outputs": [],
   "source": [
    "''' Q3. What is App routing in Flask? Why do we use app routes? '''\n",
    "\n",
    "#ANSWER :\n",
    "\n",
    "\n",
    "'''  In Flask, app routing refers to the process of mapping URL paths to functions or views \n",
    "that handle the corresponding requests. It allows you to define routes for different URLs and \n",
    "specify the functions or methods that will be executed when those URLs are accessed.\n",
    "\n",
    "When a request is made to a Flask application, the app routing system matches the requested URL \n",
    "against the defined routes to determine which function should be called to handle the request. \n",
    "This function is commonly referred to as a view function. \n",
    "\n",
    "Using app routes offers several benefits:\n",
    "\n",
    "Routing: It enables you to define clean and meaningful URLs for your application, making it easier \n",
    "for users and search engines to navigate and understand the structure of your website.\n",
    "\n",
    "Separation of Concerns: Routes allow you to separate different functionalities or pages of your \n",
    "application into individual view functions. This promotes modularity and maintainability by keeping\n",
    "the code for each page or endpoint isolated.\n",
    "\n",
    "RESTful APIs: App routing is particularly useful when building RESTful APIs, as you can define\n",
    "routes for different HTTP methods (GET, POST, PUT, DELETE) and map them to the corresponding \n",
    "functions that handle those methods.\n",
    "\n",
    "Dynamic Routing: Flask also supports dynamic routes by using URL parameters. This allows you to \n",
    "handle URLs with variable parts, such as passing an ID or a username as part of the URL.'''\n"
   ]
  },
  {
   "cell_type": "code",
   "execution_count": null,
   "id": "5ec20cdc",
   "metadata": {},
   "outputs": [],
   "source": [
    "'''  '''\n",
    "\n",
    "#ANSWER :\n",
    "\n",
    "\n",
    "'''    '''"
   ]
  },
  {
   "cell_type": "code",
   "execution_count": null,
   "id": "25e7aa2d",
   "metadata": {},
   "outputs": [],
   "source": [
    "''' Q4. Create a “/welcome” route to display the welcome message “Welcome to ABC Corporation” and a “/”\n",
    "route to show the following details:\n",
    "Company Name: ABC Corporation\n",
    "Location: India\n",
    "Contact Detail: 999-999-9999 '''\n",
    "\n",
    "#ANSWER :\n",
    "\n",
    "\n",
    "from flask import Flask \n",
    "\n",
    "app = Flask(__name__)\n",
    "\n",
    "details = ''' “Welcome to ABC Corporation” \\n\n",
    "               Company Name: ABC Corporation \n",
    "                Location: India \n",
    "                Contact Detail: 999-999-9999<h1> '''\n",
    "\n",
    "@app.route(\"/\")\n",
    "def msg():\n",
    "    return details\n",
    "                \n",
    "\n",
    "if __name__ == \"__main__\":\n",
    "    app.run(host=\"0.0.0.0\")"
   ]
  },
  {
   "cell_type": "code",
   "execution_count": 18,
   "id": "400939c8",
   "metadata": {},
   "outputs": [
    {
     "data": {
      "text/plain": [
       "'C:\\\\Users\\\\HP\\\\Desktop\\\\jupyter_notebook'"
      ]
     },
     "execution_count": 18,
     "metadata": {},
     "output_type": "execute_result"
    }
   ],
   "source": [
    "import os \n",
    "cwd = os.getcwd()\n",
    "cwd"
   ]
  },
  {
   "cell_type": "markdown",
   "id": "788c240c",
   "metadata": {},
   "source": [
    "<img src=\"welcome.png\" >"
   ]
  },
  {
   "cell_type": "code",
   "execution_count": null,
   "id": "f47d2285",
   "metadata": {},
   "outputs": [],
   "source": [
    "''' Q5. What function is used in Flask for URL Building? Write a Python code to demonstrate the working of the\n",
    "url_for() function. '''\n",
    "\n",
    "#ANSWER :\n",
    "\n",
    "\n",
    "'''  In Flask, the `url_for()` function is used for URL building. It is a built-in function that helps \n",
    "generate URLs for routes defined in your Flask application. It takes the name of the view function or \n",
    "endpoint as the first argument and any additional arguments as keyword arguments to build the URL.\n",
    "\n",
    "Here's an example code to demonstrate the working of the `url_for()` function:\n",
    "\n",
    "\n",
    "\n",
    "In this example, we have defined three routes: `home()`, `about()`, and `contact()`. Within the \n",
    "`if __name__ == '__main__':` block, we use `app.test_request_context()` to create a test request context.\n",
    "This is necessary for the `url_for()` function to work outside the context of a request.\n",
    "\n",
    "Inside the test request context, we call `url_for()` with the name of the view function as an argument. It\n",
    "returns the URL for that route. We then print the output of each `url_for()` call.\n",
    "\n",
    "When you run this code, the `url_for()` function will generate the URLs based on the routes defined in your \n",
    "Flask application. The output will be:\n",
    "\n",
    "\n",
    "```\n",
    "\n",
    "The `url_for()` function is particularly useful when you want to generate URLs dynamically within your application. \n",
    "It abstracts the URL generation process and allows you to easily change the routes without having to update every \n",
    "occurrence of the URL in your code.\n",
    "\n",
    "Please note that the `url_for()` function should be used within the context of a request or with the help of the \n",
    "`app.test_request_context()` as shown in the example.  '''\n",
    "\n",
    "\n",
    "from flask import Flask, url_for\n",
    "\n",
    "app = Flask(__name__)\n",
    "\n",
    "@app.route('/')\n",
    "def home():\n",
    "    return 'This is the home page.'\n",
    "\n",
    "@app.route('/about')\n",
    "def about():\n",
    "    return 'This is the about page.'\n",
    "\n",
    "@app.route('/contact')\n",
    "def contact():\n",
    "    return 'This is the contact page.'\n",
    "\n",
    "if __name__ == '__main__':\n",
    "    with app.test_request_context():\n",
    "        print(url_for('home'))     # Output: /\n",
    "        print(url_for('about'))    # Output: /about\n",
    "        print(url_for('contact'))  # Output: /contact"
   ]
  },
  {
   "cell_type": "code",
   "execution_count": null,
   "id": "07c78e29",
   "metadata": {},
   "outputs": [],
   "source": [
    "''' Q5. What function is used in Flask for URL Building? Write a Python code to demonstrate the working of the\n",
    "url_for() function. '''\n",
    "\n",
    "#ANSWER :\n",
    "\n",
    "\n",
    "'''  In Flask, the `url_for()` function is used for URL building. It is a built-in function that helps \n",
    "generate URLs for routes defined in your Flask application. It takes the name of the view function or \n",
    "endpoint as the first argument and any additional arguments as keyword arguments to build the URL.\n",
    "\n",
    "Here's an example code to demonstrate the working of the `url_for()` function:\n",
    "\n",
    "\n",
    "\n",
    "In this example, we have defined three routes: `home()`, `about()`, and `contact()`. Within the \n",
    "`if __name__ == '__main__':` block, we use `app.test_request_context()` to create a test request context.\n",
    "This is necessary for the `url_for()` function to work outside the context of a request.\n",
    "\n",
    "Inside the test request context, we call `url_for()` with the name of the view function as an argument. It\n",
    "returns the URL for that route. We then print the output of each `url_for()` call.\n",
    "\n",
    "When you run this code, the `url_for()` function will generate the URLs based on the routes defined in your \n",
    "Flask application. The output will be:\n",
    "\n",
    "\n",
    "```\n",
    "\n",
    "The `url_for()` function is particularly useful when you want to generate URLs dynamically within your application. \n",
    "It abstracts the URL generation process and allows you to easily change the routes without having to update every \n",
    "occurrence of the URL in your code.\n",
    "\n",
    "Please note that the `url_for()` function should be used within the context of a request or with the help of the \n",
    "`app.test_request_context()` as shown in the example.  '''\n",
    "\n",
    "\n",
    "from flask import Flask, url_for\n",
    "\n",
    "app = Flask(__name__)\n",
    "\n",
    "@app.route('/')\n",
    "def home():\n",
    "    return 'This is the home page.'\n",
    "\n",
    "@app.route('/about')\n",
    "def about():\n",
    "    return 'This is the about page.'\n",
    "\n",
    "@app.route('/contact')\n",
    "def contact():\n",
    "    return 'This is the contact page.'\n",
    "\n",
    "if __name__ == '__main__':\n",
    "    with app.test_request_context():\n",
    "        print(url_for('home'))     # Output: /\n",
    "        print(url_for('about'))    # Output: /about\n",
    "        print(url_for('contact'))  # Output: /contact"
   ]
  },
  {
   "cell_type": "code",
   "execution_count": null,
   "id": "0865b9d9",
   "metadata": {},
   "outputs": [],
   "source": [
    "from IPython.display import Image\n",
    "\n",
    "Image(filename='C:\\Users\\HP\\Desktop\\jupyter_notebook flask.png')"
   ]
  },
  {
   "cell_type": "code",
   "execution_count": null,
   "id": "d6870746",
   "metadata": {},
   "outputs": [],
   "source": []
  }
 ],
 "metadata": {
  "kernelspec": {
   "display_name": "Python 3 (ipykernel)",
   "language": "python",
   "name": "python3"
  },
  "language_info": {
   "codemirror_mode": {
    "name": "ipython",
    "version": 3
   },
   "file_extension": ".py",
   "mimetype": "text/x-python",
   "name": "python",
   "nbconvert_exporter": "python",
   "pygments_lexer": "ipython3",
   "version": "3.10.9"
  }
 },
 "nbformat": 4,
 "nbformat_minor": 5
}
