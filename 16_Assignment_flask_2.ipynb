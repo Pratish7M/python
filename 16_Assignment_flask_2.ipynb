{
 "cells": [
  {
   "cell_type": "code",
   "execution_count": null,
   "metadata": {},
   "outputs": [],
   "source": [
    "''' Q1. Explain GET and POST methods. '''\n",
    "\n",
    "#ANSWER :\n",
    "\n",
    "\n",
    "'''  HTTP Methods\n",
    "In this tutorial we will talk about HTTP methods. HTTP methods are the standard way of sending information\n",
    " to and from a web server. To break it down, a website runs on a server or multiple servers and simple returns\n",
    "   information to a client (web-browser). Information is exchanged between the client and the server using an \n",
    "   HTTP protocol that has a few different methods. We will be discussing the post commonly used ones called \n",
    "   POST & GET.\n",
    "\n",
    "GET\n",
    "GET is the most commonly used HTTP method and it is typically used to retrieve information from a web server.\n",
    "\n",
    "POST\n",
    "POST is commonly used to send information to web server. It is more often used when uploading a file, getting \n",
    "form data and sending sensitive data. POST is a secure way to send data to a web server.  '''"
   ]
  },
  {
   "cell_type": "code",
   "execution_count": null,
   "metadata": {},
   "outputs": [],
   "source": [
    "'''  Q2. Why is request used in Flask? '''\n",
    "\n",
    "\n",
    "\n",
    "#Answer :\n",
    "\n",
    "\n",
    "\n",
    "'''  In Flask, the request object is used to access incoming request data and information in a web application. It is an integral part of handling HTTP requests and enables you to interact with the data sent by the client, such as form inputs, query parameters, headers, and more.\n",
    "\n",
    "The request object provides several attributes and methods that allow you to access different aspects of the request. Some of the commonly used attributes and methods include:\n",
    "\n",
    "request.method: Represents the HTTP method used in the request (e.g., GET, POST, PUT, DELETE).\n",
    "request.args: Contains the parsed query parameters from the URL.\n",
    "request.form: Provides access to form data submitted via POST requests.\n",
    "request.files: Contains any uploaded files sent as part of the request.\n",
    "request.headers: Gives access to the HTTP headers sent with the request.\n",
    "request.cookies: Allows access to the cookies sent by the client.\n",
    "request.get_json(): Returns the JSON data sent in the request body, if available.     '''"
   ]
  },
  {
   "cell_type": "code",
   "execution_count": null,
   "metadata": {},
   "outputs": [],
   "source": [
    "''' Q3. Why is redirect() used in Flask?  '''\n",
    "\n",
    "\n",
    "#Answer : \n",
    "\n",
    "\n",
    "'''  \n",
    "In Flask, the redirect() function is used to redirect the user's browser to a different URL. It is a convenient way to navigate users to another route or page within your Flask application or even to an external URL.\n",
    "\n",
    "The primary purpose of using redirect() is to perform URL redirection, which can be useful in various scenarios, including:\n",
    "\n",
    "Routing to a different route: You can use redirect() to send the user to a different route within your Flask application. This can be helpful when you want to direct users to another page after a specific action or when handling certain conditions.\n",
    "\n",
    "Handling form submissions: After processing a form submission, it is often desirable to redirect the user to another page rather than displaying a static response. redirect() allows you to redirect the user to a different URL after form processing, providing a seamless user experience.\n",
    "\n",
    "Handling authentication and authorization: When dealing with authentication and authorization in Flask, redirect() can be used to redirect users to login pages or access-denied pages if they are not authenticated or authorized to access a particular resource.\n",
    "\n",
    "External URL redirection: redirect() can also be used to redirect users to external websites or resources. This is helpful when you want to redirect users to a different domain or an external service.\n",
    "\n",
    "Here's a simple example demonstrating the usage of redirect() in Flask:\n",
    "\n",
    "\n",
    "In the above example, when the user visits the root URL (/), the index() function redirects them to the hello() function using redirect() and url_for(). As a result, the user's browser is redirected to the /hello URL, and the message \"Hello, World!\" is displayed.\n",
    "\n",
    "Overall, redirect() is a handy function in Flask that allows you to control the flow of your application by directing users to different routes or external URLs. It provides flexibility and helps create dynamic and interactive web applications.\n",
    "\n",
    "\n",
    " '''\n",
    "\n",
    "from flask import Flask, redirect, url_for\n",
    "\n",
    "app = Flask(__name__)\n",
    "\n",
    "@app.route('/')\n",
    "def index():\n",
    "    # Redirect to the 'hello' route\n",
    "    return redirect(url_for('hello'))\n",
    "\n",
    "@app.route('/hello')\n",
    "def hello():\n",
    "    return 'Hello, World!'\n",
    "\n",
    "if __name__ == '__main__':\n",
    "    app.run()"
   ]
  },
  {
   "cell_type": "code",
   "execution_count": null,
   "metadata": {},
   "outputs": [],
   "source": [
    "''' Q4. What are templates in Flask? Why is the render_template() function used?  '''\n",
    "\n",
    "\n",
    "#Answer : \n",
    "\n",
    "\n",
    "''' \n",
    "In Flask, templates are files that contain the structure and layout of web pages. They are used to separate the \n",
    "presentation logic from the application logic, allowing you to create dynamic and reusable HTML pages.\n",
    "\n",
    "Templates in Flask typically use a templating engine, such as Jinja2, which provides powerful features like variable\n",
    "substitution, conditionals, loops, and template inheritance. With templates, you can dynamically generate HTML content\n",
    "based on data or logic in your Flask application.\n",
    "\n",
    "The render_template() function is used to render templates in Flask. It takes the name of the template file as an \n",
    "argument, along with optional additional data, and returns the rendered HTML content.  '''"
   ]
  },
  {
   "cell_type": "code",
   "execution_count": 5,
   "metadata": {},
   "outputs": [
    {
     "name": "stdout",
     "output_type": "stream",
     "text": [
      " * Serving Flask app '__main__'\n",
      " * Debug mode: off\n"
     ]
    },
    {
     "name": "stderr",
     "output_type": "stream",
     "text": [
      "WARNING: This is a development server. Do not use it in a production deployment. Use a production WSGI server instead.\n",
      " * Running on all addresses (0.0.0.0)\n",
      " * Running on http://127.0.0.1:5000\n",
      " * Running on http://192.168.0.145:5000\n",
      "Press CTRL+C to quit\n"
     ]
    }
   ],
   "source": [
    "''' Q5. Create a simple API. Use Postman to test it. Attach the screenshot of the output in the Jupyter Notebook.  '''\n",
    "\n",
    "\n",
    "#Answer : \n",
    "\n",
    "\n",
    "'''   '''\n",
    "\n",
    "from flask import Flask,render_template,request,jsonify\n",
    "\n",
    "# from waitress import serve\n",
    "\n",
    "app = Flask(__name__)\n",
    "\n",
    "@app.route('/',methods = ['GET','POST'])\n",
    "def home_page():\n",
    "    return render_template('index.html')\n",
    "\n",
    "@app.route('/math', methods = ['POST'])\n",
    "def math_operation() :\n",
    "    if (request.method == 'POST'):\n",
    "        ops = request.form['operation']\n",
    "        num1 = int(request.form['num1'])\n",
    "        num2 = int(request.form['num2'])\n",
    "        if(ops == 'add'):\n",
    "            r = num1 + num2\n",
    "            result = 'the sum of' + str(num1) + 'and' + str(num2) + 'is' +str(r)\n",
    "            \n",
    "        if(ops == 'subtract'):\n",
    "            r = num1 - num2\n",
    "            result = 'the sum of' + str(num1) + 'and' +str(num2) + 'is' +str(r)\n",
    "            \n",
    "        if(ops == 'multiply'):\n",
    "            r = num1 * num+2\n",
    "            result = 'the sum of' + str(num1) + 'and' +str(num2) + 'is' +str(r)\n",
    "           \n",
    "        if(ops == 'divide'):\n",
    "            r = num1 / num2\n",
    "            result = 'the sum of' + str(num1) + 'and' +str(num2) + 'is' +str(r)\n",
    "            \n",
    "        return render_template('results.html',result = result)\n",
    "    \n",
    "\n",
    "@app.route('/postman', methods = ['POST'])\n",
    "def math_operation1() :\n",
    "    if (request.method == 'POST'):\n",
    "        ops = request.json['operation']\n",
    "        num1 = int(request.json['num1'])\n",
    "        num2 = int(request.json['num2'])\n",
    "        if(ops == 'add'):\n",
    "            r = num1 + num2\n",
    "            result = 'the sum of' + str(num1) + '  and  ' + str(num2) + '  is  ' +str(r)\n",
    "            \n",
    "        if(ops == 'subtract'):\n",
    "            r = num1 - num2\n",
    "            result = 'the sum of' + str(num1) + '  and  ' +str(num2) + '  is  ' +str(r)\n",
    "            \n",
    "        if(ops == 'multiply'):\n",
    "            r = num1 * num+2\n",
    "            result = 'the sum of' + str(num1) + '  and  ' +str(num2) + '  is  ' +str(r)\n",
    "           \n",
    "        if(ops == 'divide'):\n",
    "            r = num1 / num2\n",
    "            result = 'the sum of' + str(num1) + 'and' +str(num2) + 'is' +str(r)\n",
    "        return jsonify(result)\n",
    "\n",
    "\n",
    "\n",
    "\n",
    "if __name__ == \"__main__\" :\n",
    "    app.run(host = \"0.0.0.0\")\n"
   ]
  },
  {
   "cell_type": "markdown",
   "metadata": {},
   "source": [
    "from IPython.display import Image\n",
    "\n",
    "Image(url='https://github.com/Pratish7M/python-assignment/blob/main/postman.png')\n"
   ]
  },
  {
   "cell_type": "markdown",
   "metadata": {},
   "source": [
    "from IPython.display import Image\n",
    "\n",
    "Image(url='https://github.com/Pratish7M/python-assignment/blob/main/postman.png')\n"
   ]
  },
  {
   "cell_type": "code",
   "execution_count": 10,
   "metadata": {},
   "outputs": [
    {
     "data": {
      "text/html": [
       "<img src=\"postman.png\"/>"
      ],
      "text/plain": [
       "<IPython.core.display.Image object>"
      ]
     },
     "execution_count": 10,
     "metadata": {},
     "output_type": "execute_result"
    }
   ],
   "source": [
    "from IPython.display import Image\n",
    "\n",
    "Image(url='postman.png')\n"
   ]
  },
  {
   "cell_type": "markdown",
   "metadata": {},
   "source": []
  }
 ],
 "metadata": {
  "kernelspec": {
   "display_name": "Python 3",
   "language": "python",
   "name": "python3"
  },
  "language_info": {
   "codemirror_mode": {
    "name": "ipython",
    "version": 3
   },
   "file_extension": ".py",
   "mimetype": "text/x-python",
   "name": "python",
   "nbconvert_exporter": "python",
   "pygments_lexer": "ipython3",
   "version": "3.11.2"
  },
  "orig_nbformat": 4
 },
 "nbformat": 4,
 "nbformat_minor": 2
}
