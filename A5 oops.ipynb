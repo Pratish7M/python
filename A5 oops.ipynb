{
 "cells": [
  {
   "cell_type": "code",
   "execution_count": 1,
   "metadata": {},
   "outputs": [
    {
     "data": {
      "text/plain": [
       "('BMW', 200, 50)"
      ]
     },
     "execution_count": 1,
     "metadata": {},
     "output_type": "execute_result"
    }
   ],
   "source": [
    "'''Q1, Create a vehicle class with an init method having instance variables as name_of_vehicle, max_speed\n",
    "and average_of_vehicle.\n",
    "\n",
    "'''\n",
    "\n",
    "# Answer :\n",
    "\n",
    "class vehicle():\n",
    "\n",
    "    def __init__(self,name_of_vehicle, max_speed, average_of_vehicle) :\n",
    "        self.name_of_vehicle  = name_of_vehicle\n",
    "        self.max_speed  = max_speed\n",
    "        self.average_of_vehicle  = average_of_vehicle\n",
    "\n",
    "    def show(self):\n",
    "        return self.name_of_vehicle,self.max_speed,self.average_of_vehicle\n",
    "    \n",
    "v1 = vehicle(\"BMW\",200,50)\n",
    "v1.show()\n",
    "\n",
    "    \n"
   ]
  },
  {
   "cell_type": "code",
   "execution_count": 21,
   "metadata": {},
   "outputs": [
    {
     "name": "stdout",
     "output_type": "stream",
     "text": [
      "Bugati\n",
      "6\n"
     ]
    }
   ],
   "source": [
    "'''Q2. Create a child class car from the vehicle class created in Que 1, \n",
    "which will inherit the vehicle class.Create a method named seating_capacity \n",
    "which takes capacity as an argument and returns the name of the vehicle and \n",
    "its seating capacity.\n",
    "'''\n",
    "\n",
    "#Answer\n",
    "\n",
    "class vehicle():\n",
    "    def __init__(self,name):\n",
    "        self.name = name\n",
    "\n",
    "    def show_name(self):\n",
    "        print( self.name )\n",
    "    \n",
    "class car(vehicle):\n",
    "    def seating_capacity(self,capacity):\n",
    "        self.capacity = capacity\n",
    "    def show_capacity(self):\n",
    "        print( self.capacity )\n",
    "\n",
    "\n",
    "my_car = car(\"Bugati\")\n",
    "my_car.show_name()\n",
    "\n",
    "my_car.seating_capacity(6)\n",
    "my_car.show_capacity()\n",
    "\n",
    "    \n"
   ]
  },
  {
   "cell_type": "code",
   "execution_count": 22,
   "metadata": {},
   "outputs": [
    {
     "name": "stdout",
     "output_type": "stream",
     "text": [
      "im grand father\n",
      "im father\n"
     ]
    }
   ],
   "source": [
    "'''Q3. What is multiple inheritance? Write a python code to demonstrate\n",
    " multiple inheritance.'''\n",
    "\n",
    "#Answer : \n",
    "\n",
    "\n",
    "'''Multiple inheritance is a feature in object-oriented programming where \n",
    "a class can inherit attributes and methods  from multiple parent classes. \n",
    "This means that a child class can inherit characteristics from multiple \n",
    "parent classes,combining their functionalities into a single derived class.  '''\n",
    "\n",
    "class grand_father():\n",
    "    def method1(self):\n",
    "        print(\"im grand father\")\n",
    "\n",
    "\n",
    "class father():\n",
    "    def method2(self):\n",
    "        print(\"im father\")\n",
    "\n",
    "\n",
    "class child(grand_father,father):\n",
    "    pass\n",
    "\n",
    "child = child()\n",
    "\n",
    "child.method1()\n",
    "\n",
    "child.method2()\n"
   ]
  },
  {
   "cell_type": "code",
   "execution_count": null,
   "metadata": {},
   "outputs": [],
   "source": [
    "'''Q4. What are getter and setter in python? Create a class and create a \n",
    "getter and a setter method in this class.\n",
    "'''\n",
    "\n",
    "#Answer:\n",
    "\n",
    "class Person:\n",
    "    def __init__(self, name):\n",
    "        self._name = name  # Note the use of a single underscore for the attribute name\n",
    "\n",
    "    def get_name(self):\n",
    "        return self._name\n",
    "\n",
    "    def set_name(self, new_name):\n",
    "        self._name = new_name\n",
    "\n",
    "# Creating an instance of the Person class\n",
    "person = Person(\"John Doe\")\n",
    "\n",
    "# Getting the name using the getter method\n",
    "print(person.get_name())  # Output: John Doe\n",
    "\n",
    "# Setting a new name using the setter method\n",
    "person.set_name(\"Jane Smith\")\n",
    "\n",
    "# Getting the updated name using the getter method\n",
    "print(person.get_name())  # Output: Jane Smith\n"
   ]
  },
  {
   "cell_type": "code",
   "execution_count": null,
   "metadata": {},
   "outputs": [],
   "source": [
    "''' \n",
    "Q5.What is method overriding in python? Write a python code to demonstrate method overriding.\n",
    "\n",
    "'''\n",
    "\n",
    "#Answer:\n",
    "\n",
    "'''Method overriding is a concept in object-oriented programming where a subclass provides its \n",
    "own implementation of a method that is already defined in its superclass. When a method is overridden,\n",
    "the subclass method with the same name and signature replaces the implementation inherited from the superclass.'''\n",
    "\n",
    "class Vehicle:\n",
    "    def drive(self):\n",
    "        print(\"Vehicle is being driven.\")\n",
    "\n",
    "class Car(Vehicle):\n",
    "    def drive(self):\n",
    "        print(\"Car is being driven.\")\n",
    "\n",
    "# Creating instances of the classes\n",
    "vehicle = Vehicle()\n",
    "car = Car()\n",
    "\n",
    "# Calling the drive method on the instances\n",
    "vehicle.drive()  # Output: Vehicle is being driven.\n",
    "car.drive()  # Output: Car is being driven.\n"
   ]
  }
 ],
 "metadata": {
  "kernelspec": {
   "display_name": "Python 3",
   "language": "python",
   "name": "python3"
  },
  "language_info": {
   "codemirror_mode": {
    "name": "ipython",
    "version": 3
   },
   "file_extension": ".py",
   "mimetype": "text/x-python",
   "name": "python",
   "nbconvert_exporter": "python",
   "pygments_lexer": "ipython3",
   "version": "3.11.2"
  },
  "orig_nbformat": 4
 },
 "nbformat": 4,
 "nbformat_minor": 2
}
