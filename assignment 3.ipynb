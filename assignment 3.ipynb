{
 "cells": [
  {
   "cell_type": "code",
   "execution_count": 8,
   "metadata": {},
   "outputs": [
    {
     "name": "stdout",
     "output_type": "stream",
     "text": [
      "[0, 1, 2, 3, 4, 5, 6, 7, 8, 9, 10, 11, 12, 13, 14, 15, 16, 17, 18, 19, 20, 21, 22, 23, 24, 25]\n"
     ]
    }
   ],
   "source": [
    "''' Q1. Which keyword is used to create a function? Create a function to return a list of odd numbers in the\n",
    "range of 1 to 25.  '''\n",
    "#Answer : the def keyword use for create a function\n",
    "\n",
    "def l():\n",
    "    return list(range(0, 26))\n",
    "\n",
    "n = l()\n",
    "print(n)"
   ]
  },
  {
   "cell_type": "code",
   "execution_count": null,
   "metadata": {},
   "outputs": [
    {
     "name": "stdout",
     "output_type": "stream",
     "text": [
      "((1, 2, 3, 4), 5, 77)\n"
     ]
    },
    {
     "data": {
      "text/plain": [
       "{'mango': 100, 'oranges': 246}"
      ]
     },
     "execution_count": 5,
     "metadata": {},
     "output_type": "execute_result"
    }
   ],
   "source": [
    "'''Q2. Why *args and **kwargs is used in some functions? Create a function each for *args and **kwargs\n",
    "to demonstrate their use.  \n",
    "\n",
    "Answer : \n",
    "\n",
    "*args : it is used for take n number of inputs and return tuple\n",
    "**kwargs : it is used for takrn n number of inputs( keys and values) and return dictonary\n",
    "\n",
    "  '''\n",
    "\n",
    "def tup(*args,a,b=77):\n",
    "    return args,a,b\n",
    "\n",
    "def dic(**kwargs):\n",
    "    return kwargs\n",
    "\n",
    "x = tup(1,2,3,4,a=5)\n",
    "print(x)\n",
    "\n",
    "dic(mango = 100,oranges = 246)"
   ]
  },
  {
   "cell_type": "code",
   "execution_count": null,
   "metadata": {},
   "outputs": [
    {
     "name": "stdout",
     "output_type": "stream",
     "text": [
      "2\n",
      "4\n",
      "6\n",
      "8\n",
      "10\n"
     ]
    }
   ],
   "source": [
    "'''Q3. What is an iterator in python? Name the method used to initialise the iterator \n",
    "object and the methodused for iteration. Use these methods to print the first five \n",
    "elements of the given list [2, 4, 6, 8, 10, 12, 14,16, 18, 20].\n",
    "\n",
    "Answer:\n",
    "\n",
    "In Python, an iterator is an object that represents a stream of data.\n",
    "It provides a way to access the elements of a container or a sequence one by one, \n",
    " without the need to know the specific structure of the container.\n",
    "\n",
    " To initialize an iterator object in Python, you typically use the iter() function.\n",
    " The method used for iteration is next().\n",
    "'''\n",
    "\n",
    "list = [2, 4, 6, 8, 10, 12, 14,16, 18, 20]\n",
    "x = iter(list)\n",
    "\n",
    "print(next(x))\n",
    "print(next(x))\n",
    "print(next(x))\n",
    "print(next(x))\n",
    "print(next(x))\n"
   ]
  },
  {
   "cell_type": "code",
   "execution_count": 16,
   "metadata": {},
   "outputs": [
    {
     "name": "stdout",
     "output_type": "stream",
     "text": [
      "1\n",
      "2\n",
      "3\n",
      "4\n",
      "5\n"
     ]
    }
   ],
   "source": [
    "'''Q4. What is a generator function in python? Why yield keyword is used? Give an example of a generator\n",
    "function.  \n",
    "\n",
    "Answer: \n",
    "\n",
    "In Python, a generator function is a special type of function that returns an iterator.\n",
    "Unlike regular functions that return a single value and then terminate, generator functions\n",
    "can yield a sequence of values one at a time, suspending their state in between each yield\n",
    "statement. This allows for efficient memory usage and lazy evaluation of values.\n",
    "\n",
    "The yield keyword is used in a generator function to define the points at which the \n",
    "function should yield a value. When a generator function is called, it returns an iterator\n",
    "object. When the iterator's next() method is called, the function's execution is resumed \n",
    "from the last yield statement, and the value yielded is returned. The function's state is saved, \n",
    "allowing it to be resumed later when next() is called again.\n",
    "\n",
    "'''\n",
    "\n",
    "#code\n",
    "\n",
    "def test():\n",
    "    for i in l1:\n",
    "        yield i\n",
    "\n",
    "l1 = [1,2,3,4,5,6,7]\n",
    "x = test()\n",
    "\n",
    "for i in range(5):\n",
    "    print(next(x))\n",
    "\n"
   ]
  },
  {
   "cell_type": "code",
   "execution_count": 5,
   "metadata": {},
   "outputs": [
    {
     "name": "stdout",
     "output_type": "stream",
     "text": [
      "2\n",
      "3\n",
      "5\n",
      "7\n",
      "11\n",
      "13\n",
      "17\n",
      "19\n",
      "23\n",
      "29\n",
      "31\n",
      "37\n",
      "41\n",
      "43\n",
      "47\n",
      "53\n",
      "59\n",
      "61\n",
      "67\n",
      "71\n"
     ]
    }
   ],
   "source": [
    "\n",
    "'''Q5. Create a generator function for prime numbers less than 1000. Use the next() \n",
    "method to print the first 20 prime numbers.\n",
    "'''\n",
    "\n",
    "#Answer :\n",
    "\n",
    "def prime():\n",
    "    n = 2\n",
    "    while (n < 1000):\n",
    "        if is_prime(n):\n",
    "            yield n\n",
    "        n += 1\n",
    "\n",
    "def is_prime(n):\n",
    "    if n < 2:\n",
    "        return False\n",
    "    for i in range(2, int(n**0.5)+1):\n",
    "        if n%i == 0:\n",
    "            return False\n",
    "    return True\n",
    "\n",
    "x = prime()\n",
    "\n",
    "for _ in range(20):\n",
    "    print(next(x))\n",
    "\n",
    "    \n"
   ]
  },
  {
   "cell_type": "code",
   "execution_count": 12,
   "metadata": {},
   "outputs": [
    {
     "name": "stdout",
     "output_type": "stream",
     "text": [
      "0\n",
      "1\n",
      "1\n",
      "2\n",
      "3\n",
      "5\n",
      "8\n",
      "13\n",
      "21\n",
      "34\n",
      "55\n"
     ]
    }
   ],
   "source": [
    "'''Q6.Write a python program to print the first 10 Fibonacci numbers using a while loop.\n",
    "'''\n",
    "\n",
    "# Answer\n",
    "\n",
    "def fib(n):\n",
    "    a,b = 0,1\n",
    "    if n == 0 :\n",
    "        return\n",
    "\n",
    "    for i in range(n+1):\n",
    "        x = a  + b\n",
    "        print(a)\n",
    "        a = b\n",
    "        b = x\n",
    "\n",
    "fib(10)\n",
    "        \n"
   ]
  },
  {
   "cell_type": "code",
   "execution_count": 8,
   "metadata": {},
   "outputs": [
    {
     "name": "stdout",
     "output_type": "stream",
     "text": [
      "['p', 'w', 's', 'k', 'i', 'l', 'l', 's']\n",
      "['p', 'w', 's', 'k', 'i', 'l', 'l', 's']\n"
     ]
    }
   ],
   "source": [
    "''' Q7 Write a List Comprehension to iterate through the given string: pwskills.\n",
    "\n",
    "Expected output: ['p', 'w', 's', 'k', 'i', 'l', 'l', 's']'''\n",
    "\n",
    "# method 1\n",
    "string = 'pwskills'\n",
    "output = [char for char in string]\n",
    "print(output)\n",
    "\n",
    "#method 2\n",
    "j1 = list(map(lambda x: x,string))\n",
    "print(j1)\n",
    "\n"
   ]
  },
  {
   "cell_type": "code",
   "execution_count": 4,
   "metadata": {},
   "outputs": [
    {
     "name": "stdout",
     "output_type": "stream",
     "text": [
      "palindrome\n"
     ]
    }
   ],
   "source": [
    "'''Q8. Write a python program to check whether a given number is Palindrome or not using a while loop.\n",
    "'''\n",
    "\n",
    "# Answer\n",
    "\n",
    "def pad(num):\n",
    "    if num[::1] == num[::-1]:\n",
    "        print(\"palindrome\")\n",
    "    else : \n",
    "        print(\"not palindrome\")\n",
    "\n",
    "n = input(\"plse give any input : \")\n",
    "pad(n)\n",
    "\n",
    "\n"
   ]
  },
  {
   "cell_type": "code",
   "execution_count": 4,
   "metadata": {},
   "outputs": [
    {
     "name": "stdout",
     "output_type": "stream",
     "text": [
      "[1, 3, 5, 7, 9, 11, 13, 15, 17, 19, 21, 23, 25, 27, 29, 31, 33, 35, 37, 39, 41, 43, 45, 47, 49, 51, 53, 55, 57, 59, 61, 63, 65, 67, 69, 71, 73, 75, 77, 79, 81, 83, 85, 87, 89, 91, 93, 95, 97, 99]\n",
      "[1, 3, 5, 7, 9, 11, 13, 15, 17, 19, 21, 23, 25, 27, 29, 31, 33, 35, 37, 39, 41, 43, 45, 47, 49, 51, 53, 55, 57, 59, 61, 63, 65, 67, 69, 71, 73, 75, 77, 79, 81, 83, 85, 87, 89, 91, 93, 95, 97, 99]\n"
     ]
    }
   ],
   "source": [
    "'''Q9. Write a code to print odd numbers from 1 to 100 using list comprehension.'''\n",
    "\n",
    "# Answer :\n",
    "\n",
    "list1 = range(1,100)\n",
    "\n",
    "print(list(filter(lambda x :x if x%2 != 0 else 0 ,list1)))\n",
    "\n",
    "odd_numbers = [num for num in range(1, 101) if num % 2 != 0]\n",
    "print(odd_numbers)\n"
   ]
  },
  {
   "cell_type": "code",
   "execution_count": null,
   "metadata": {},
   "outputs": [],
   "source": []
  },
  {
   "cell_type": "code",
   "execution_count": null,
   "metadata": {},
   "outputs": [],
   "source": []
  }
 ],
 "metadata": {
  "kernelspec": {
   "display_name": "Python 3",
   "language": "python",
   "name": "python3"
  },
  "language_info": {
   "codemirror_mode": {
    "name": "ipython",
    "version": 3
   },
   "file_extension": ".py",
   "mimetype": "text/x-python",
   "name": "python",
   "nbconvert_exporter": "python",
   "pygments_lexer": "ipython3",
   "version": "3.11.2"
  },
  "orig_nbformat": 4
 },
 "nbformat": 4,
 "nbformat_minor": 2
}
