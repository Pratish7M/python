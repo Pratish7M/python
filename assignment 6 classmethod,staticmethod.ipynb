{
 "cells": [
  {
   "cell_type": "code",
   "execution_count": 3,
   "metadata": {},
   "outputs": [
    {
     "name": "stdout",
     "output_type": "stream",
     "text": [
      "Red\n",
      "Ford\n",
      "The car has started.\n"
     ]
    }
   ],
   "source": [
    "''' Q1. Explain Class and Object with respect to Object-Oriented Programming. Give a suitable example.\n",
    "\n",
    "\n",
    "#Answer:\n",
    "\n",
    "\n",
    "In object-oriented programming (OOP), a class is a blueprint or a template for creating objects.\n",
    "It defines a set of properties and behaviors that the objects created from the class will possess. \n",
    "The properties are represented by data members, and the behaviors are represented by \n",
    "member functions or methods.\n",
    "\n",
    "An object, on the other hand, is an instance of a class. It is a concrete entity that can hold data \n",
    "and perform operations based on the class definition. Objects are created from classes and can have \n",
    "unique values for their properties while still exhibiting the same behaviors defined by the class.\n",
    "\n",
    "'''\n",
    "#code\n",
    "\n",
    "class Car:\n",
    "    def __init__(self, color, brand, model):\n",
    "        self.color = color\n",
    "        self.brand = brand\n",
    "        self.model = model\n",
    "        self.speed = 0\n",
    "\n",
    "    def start(self):\n",
    "        print(\"The car has started.\")\n",
    "\n",
    "\n",
    "car1 = Car(\"Red\", \"Honda\", \"Civic\")\n",
    "car2 = Car(\"Blue\", \"Ford\", \"Mustang\")\n",
    "\n",
    "print(car1.color)  # Output: Red\n",
    "print(car2.brand)  # Output: Ford\n",
    "\n",
    "car1.start()  # Output: The car has started.\n",
    "\n"
   ]
  },
  {
   "cell_type": "code",
   "execution_count": 4,
   "metadata": {},
   "outputs": [
    {
     "data": {
      "text/plain": [
       "' \\nQ2. Name the four pillars of OOPs.\\n\\n\\n#Answer:\\n\\n\\nEncapsulation: Encapsulation refers to the bundling of data and methods (functions) that operate on that data within a single unit called a class. \\nIt allows data to be hidden from the outside and accessed only through defined interfaces. Encapsulation helps in achieving data abstraction, \\ndata hiding, and improved code maintainability.\\n\\nInheritance: Inheritance enables the creation of new classes (derived classes) based on existing classes (base or parent classes). \\nThe derived classes inherit the properties and behaviors of the base class, allowing code reuse and the ability to extend or modify\\n the inherited functionality. Inheritance promotes code reusability and supports the concept of hierarchical classification.\\n\\nPolymorphism: Polymorphism means the ability of objects to take on different forms or have multiple behaviors depending on the context. \\nIt allows objects of different classes to be treated as objects of a common base class. Polymorphism is typically achieved through method \\noverriding and method overloading. It enhances flexibility, extensibility, and code organization.\\n\\nAbstraction: Abstraction involves simplifying complex systems by representing only the essential features and hiding unnecessary details. \\nIt focuses on providing a clear and concise interface for interacting with objects, while hiding the underlying implementation complexities. \\nAbstraction allows developers to create abstract classes and interfaces that define common behavior and characteristics without specifying \\nthe specific implementation.\\n\\n'"
      ]
     },
     "execution_count": 4,
     "metadata": {},
     "output_type": "execute_result"
    }
   ],
   "source": [
    "''' \n",
    "Q2. Name the four pillars of OOPs.\n",
    "\n",
    "\n",
    "#Answer:\n",
    "\n",
    "\n",
    "Encapsulation: Encapsulation refers to the bundling of data and methods (functions) that operate on that data within a single unit called a class. \n",
    "It allows data to be hidden from the outside and accessed only through defined interfaces. Encapsulation helps in achieving data abstraction, \n",
    "data hiding, and improved code maintainability.\n",
    "\n",
    "Inheritance: Inheritance enables the creation of new classes (derived classes) based on existing classes (base or parent classes). \n",
    "The derived classes inherit the properties and behaviors of the base class, allowing code reuse and the ability to extend or modify\n",
    " the inherited functionality. Inheritance promotes code reusability and supports the concept of hierarchical classification.\n",
    "\n",
    "Polymorphism: Polymorphism means the ability of objects to take on different forms or have multiple behaviors depending on the context. \n",
    "It allows objects of different classes to be treated as objects of a common base class. Polymorphism is typically achieved through method \n",
    "overriding and method overloading. It enhances flexibility, extensibility, and code organization.\n",
    "\n",
    "Abstraction: Abstraction involves simplifying complex systems by representing only the essential features and hiding unnecessary details. \n",
    "It focuses on providing a clear and concise interface for interacting with objects, while hiding the underlying implementation complexities. \n",
    "Abstraction allows developers to create abstract classes and interfaces that define common behavior and characteristics without specifying \n",
    "the specific implementation.\n",
    "\n",
    "'''"
   ]
  },
  {
   "cell_type": "code",
   "execution_count": 5,
   "metadata": {},
   "outputs": [
    {
     "name": "stdout",
     "output_type": "stream",
     "text": [
      "My name is Alice, and I am 25 years old.\n",
      "My name is Bob, and I am 30 years old.\n"
     ]
    }
   ],
   "source": [
    "'''\n",
    "Q3. Explain why the __init__() function is used. Give a suitable example'''\n",
    "\n",
    "\n",
    "#Answer:\n",
    "\n",
    "\n",
    "'''The __init__() function is a special method or constructor in Python classes. It is automatically called when an object is \n",
    "created from a class and is used to initialize the object's attributes or properties. '''\n",
    "\n",
    "#code\n",
    "\n",
    "class Person:\n",
    "    def __init__(self, name, age):\n",
    "        self.name = name\n",
    "        self.age = age\n",
    "\n",
    "    def introduce(self):\n",
    "        print(f\"My name is {self.name}, and I am {self.age} years old.\")\n",
    "\n",
    "person1 = Person(\"Alice\", 25)\n",
    "person2 = Person(\"Bob\", 30)\n",
    "\n",
    "person1.introduce()  \n",
    "person2.introduce()  \n"
   ]
  },
  {
   "cell_type": "code",
   "execution_count": 6,
   "metadata": {},
   "outputs": [
    {
     "data": {
      "text/plain": [
       "'\\nQ4. Why self is used in OOPs?\\n\\n#Answer :\\n\\n\\nIn object-oriented programming (OOP), self is a commonly used convention in Python though other languages may use different\\nnames such as this or this_ptr) to refer to the instance of a class within its own methods. It is a special parameter that is \\npassed to instance methods when they are called.\\n\\nThe purpose of self is to provide a reference to the current object so that the methods of the class can access and manipulate \\nits attributes and perform other operations on the object itself. It allows for proper encapsulation and enables object-specific\\n behavior.\\n\\n'"
      ]
     },
     "execution_count": 6,
     "metadata": {},
     "output_type": "execute_result"
    }
   ],
   "source": [
    "'''\n",
    "Q4. Why self is used in OOPs?\n",
    "\n",
    "#Answer :\n",
    "\n",
    "\n",
    "In object-oriented programming (OOP), self is a commonly used convention in Python though other languages may use different\n",
    "names such as this or this_ptr) to refer to the instance of a class within its own methods. It is a special parameter that is \n",
    "passed to instance methods when they are called.\n",
    "\n",
    "The purpose of self is to provide a reference to the current object so that the methods of the class can access and manipulate \n",
    "its attributes and perform other operations on the object itself. It allows for proper encapsulation and enables object-specific\n",
    " behavior.\n",
    "\n",
    "'''"
   ]
  },
  {
   "cell_type": "code",
   "execution_count": 7,
   "metadata": {},
   "outputs": [
    {
     "name": "stdout",
     "output_type": "stream",
     "text": [
      "Making sound...\n",
      "Woof!\n",
      "Flying...\n",
      "Swimming...\n",
      "Quack!\n",
      "Making sound...\n",
      "Feeding milk...\n",
      "Woof!\n"
     ]
    }
   ],
   "source": [
    "''' \n",
    "Q5. What is inheritance? Give an example for each type of inheritance.\n",
    "\n",
    "#Answer:\n",
    "\n",
    "\n",
    "Inheritance is a fundamental concept in object-oriented programming (OOP) that allows a new class to inherit properties and behaviors \n",
    "from an existing class. The existing class is referred to as the base class, parent class, or superclass, while the new class is called \n",
    "the derived class, child class, or subclass.\n",
    "\n",
    "Inheritance promotes code reuse and allows for the creation of a hierarchical classification of classes. The derived class inherits \n",
    "the attributes and methods of the base class, and it can add additional attributes and methods or override the existing ones to tailor \n",
    "its behavior.\n",
    "\n",
    "'''\n",
    "\n",
    "#Single Inheritance:\n",
    "\n",
    "class Animal:\n",
    "    def sound(self):\n",
    "        print(\"Making sound...\")\n",
    "\n",
    "class Dog(Animal):\n",
    "    def bark(self):\n",
    "        print(\"Woof!\")\n",
    "\n",
    "dog = Dog()\n",
    "dog.sound()  # Output: Making sound...\n",
    "dog.bark()   # Output: Woof!\n",
    "\n",
    "\n",
    "\n",
    "#Multiple Inheritance:\n",
    "\n",
    "class Flyable:\n",
    "    def fly(self):\n",
    "        print(\"Flying...\")\n",
    "\n",
    "class Swimmable:\n",
    "    def swim(self):\n",
    "        print(\"Swimming...\")\n",
    "\n",
    "class Duck(Flyable, Swimmable):\n",
    "    def quack(self):\n",
    "        print(\"Quack!\")\n",
    "\n",
    "duck = Duck()\n",
    "duck.fly()   # Output: Flying...\n",
    "duck.swim()  # Output: Swimming...\n",
    "duck.quack() # Output: Quack!\n",
    "\n",
    "\n",
    "# Multilevel Inheritance:\n",
    "\n",
    "\n",
    "class Animal:\n",
    "    def sound(self):\n",
    "        print(\"Making sound...\")\n",
    "\n",
    "class Mammal(Animal):\n",
    "    def feed_milk(self):\n",
    "        print(\"Feeding milk...\")\n",
    "\n",
    "class Dog(Mammal):\n",
    "    def bark(self):\n",
    "        print(\"Woof!\")\n",
    "\n",
    "dog = Dog()\n",
    "dog.sound()       # Output: Making sound...\n",
    "dog.feed_milk()   # Output: Feeding milk...\n",
    "dog.bark()        # Output: Woof!\n"
   ]
  }
 ],
 "metadata": {
  "kernelspec": {
   "display_name": "Python 3",
   "language": "python",
   "name": "python3"
  },
  "language_info": {
   "codemirror_mode": {
    "name": "ipython",
    "version": 3
   },
   "file_extension": ".py",
   "mimetype": "text/x-python",
   "name": "python",
   "nbconvert_exporter": "python",
   "pygments_lexer": "ipython3",
   "version": "3.11.2"
  },
  "orig_nbformat": 4
 },
 "nbformat": 4,
 "nbformat_minor": 2
}
