{
 "cells": [
  {
   "cell_type": "code",
   "execution_count": null,
   "metadata": {},
   "outputs": [],
   "source": [
    "''' Q1. what is an Exception, and whats the diffrancce between Ecxeptions and syntax error   '''\n",
    "\n",
    "#Answer\n",
    "\n",
    "\n",
    "'''In Python, an exception is an event that occurs during the execution of a program and disrupts the normal flow of instructions. \n",
    "When an exceptional situation arises, such as an error or an unexpected condition, Python raises an exception. This allows the \n",
    "program to handle the exceptional situation and prevent the program from terminating abruptly.\n",
    "\n",
    "Exceptions provide a way to handle and manage errors, making programs more robust and reliable. \n",
    "When an exception is raised, it creates an object that contains information about the exceptional event, \n",
    "including its type and an optional error message.'''"
   ]
  },
  {
   "cell_type": "code",
   "execution_count": 5,
   "metadata": {},
   "outputs": [
    {
     "data": {
      "text/plain": [
       "-54"
      ]
     },
     "execution_count": 5,
     "metadata": {},
     "output_type": "execute_result"
    }
   ],
   "source": [
    "'''  Q2. What happen when Exception not handled ? , explain with example   '''\n",
    "\n",
    "#Answer\n",
    "\n",
    "'''\n",
    "When an exception is not handled in Python, it leads to the termination of the program and an error message is displayed, \n",
    "indicating the type of exception that occurred and a traceback of the call stack.\n",
    "\n",
    "When an exception is raised but not caught by an appropriate except block, it propagates up the call stack until it reaches \n",
    "the top-level of the program. If the exception reaches the main program and is still unhandled, the program terminates and the \n",
    "unhandled exception is displayed as an error message.\n",
    "'''\n",
    "\n",
    "# Example \n",
    "def details():\n",
    "    \n",
    "    age = int(input(\"enter the age \"))\n",
    "    return age \n",
    "\n",
    "\n",
    "\n",
    "name = \"pratish\"\n",
    "age = details()\n",
    "age\n",
    "\n",
    "# in this case you can see that the age of pratish is -54 which is not acceptable sothats why we use Exception handling "
   ]
  },
  {
   "cell_type": "code",
   "execution_count": 12,
   "metadata": {},
   "outputs": [
    {
     "name": "stdout",
     "output_type": "stream",
     "text": [
      "Your age is: 25\n",
      "Invalid input. Please enter a valid integer. name 'vhfy' is not defined\n",
      "hello pratish >>>>>\n",
      " value error is occured\n"
     ]
    }
   ],
   "source": [
    "''' Q4. explain with an example \n",
    "\n",
    "    try else\n",
    "    finally\n",
    "    raise    '''\n",
    "\n",
    "#Answer\n",
    "\n",
    "'''   try and else: The try statement is used to enclose a block of code that might raise an exception. \n",
    "If an exception occurs within the try block, it is caught and handled by the corresponding except block. \n",
    "However, if no exception occurs, the code within the else block is executed. Here's an example:    '''\n",
    "\n",
    "try:\n",
    "    age = 25\n",
    "except ValueError:\n",
    "    print(\"Invalid input. Please enter a valid integer.\")\n",
    "else:\n",
    "    print(\"Your age is:\", age)\n",
    "\n",
    "'''finally: The finally block is used to specify code that should be executed regardless of whether an exception occurred \n",
    "or not. It ensures that certain cleanup actions or resource release operations are performed, even if an exception is raised \n",
    "and caught. Here's an example:'''\n",
    "\n",
    "try:\n",
    "    age = vhfy\n",
    "except Exception as e :\n",
    "    print(\"Invalid input. Please enter a valid integer.\", e)\n",
    "finally:\n",
    "    print(\"hello pratish >>>>>\")\n",
    "\n",
    "\n",
    "'''raise: The raise statement is used to explicitly raise an exception in Python. It allows you to signal exceptional conditions \n",
    "programmatically. Here's an example:'''\n",
    "\n",
    "def validate_age (age):\n",
    "    if age < 0 :\n",
    "        raise ValueError(\" value error is occured\")\n",
    "try :\n",
    "    age = int(input(\"enter your age : \"))\n",
    "    validate_age(age)\n",
    "except ValueError as ve :\n",
    "    print(ve)"
   ]
  },
  {
   "cell_type": "code",
   "execution_count": 13,
   "metadata": {},
   "outputs": [
    {
     "name": "stdout",
     "output_type": "stream",
     "text": [
      " age too large \n"
     ]
    }
   ],
   "source": [
    "''' Q5. Why are Custom Exceptions in python? Why do we need Custom Exceptions? Explain with example '''\n",
    "\n",
    "#Answer\n",
    "\n",
    "'''Custom exceptions in Python are created when the built-in exceptions provided by the language are not \n",
    "sufficient to handle specific exceptional situations in a program. They allow developers to define their \n",
    "own exception classes tailored to their application's needs. Custom exceptions provide clarity, modularity, \n",
    "and flexibility in error handling, making code more readable and maintainable.  \n",
    "\n",
    "\n",
    "By creating custom exceptions, you can define and handle exceptional situations that are unique to your application \n",
    "domain, making your code more expressive and facilitating better error handling and debugging'''\n",
    "\n",
    "\n",
    "class validage(Exception):\n",
    "    def __init__(self,msg):\n",
    "        self.msg = msg\n",
    "\n",
    "def validage1(age):\n",
    "    if age < 0 :\n",
    "        raise validage(\"age is not less than 0 love day\")  \n",
    "    elif age > 200:\n",
    "        raise validage(\" age too large \") \n",
    "    else :\n",
    "        print(\"your age is valid\")\n",
    "\n",
    "try :\n",
    "    age = int(input(\"enter the age\"))\n",
    "    validage1(age) \n",
    "except validage as e : \n",
    "    print(e)"
   ]
  },
  {
   "cell_type": "code",
   "execution_count": 15,
   "metadata": {},
   "outputs": [
    {
     "name": "stdout",
     "output_type": "stream",
     "text": [
      "Invalid email address: pratishg25gmail.com\n",
      "pratishg25gmail.com\n"
     ]
    }
   ],
   "source": [
    "'''     '''\n",
    "\n",
    "#Answer\n",
    "\n",
    "class InvalidEmailError(Exception):\n",
    "    \"\"\"Exception raised for invalid email addresses.\"\"\"\n",
    "    def __init__(self, email):\n",
    "        self.email = email\n",
    "        print(f\"Invalid email address: {email}\")\n",
    "        \n",
    "\n",
    "def send_email(email_address):\n",
    "    if \"@\" not in email_address:\n",
    "        raise InvalidEmailError(email_address)\n",
    "    else:\n",
    "        # Send the email\n",
    "        print(\"Email sent successfully.\")\n",
    "\n",
    "try:\n",
    "    email = input(\"Enter email address: \")\n",
    "    send_email(email, \"Hello!\")\n",
    "except InvalidEmailError as iee:\n",
    "    print(iee)\n"
   ]
  },
  {
   "cell_type": "code",
   "execution_count": null,
   "metadata": {},
   "outputs": [],
   "source": []
  }
 ],
 "metadata": {
  "kernelspec": {
   "display_name": "Python 3",
   "language": "python",
   "name": "python3"
  },
  "language_info": {
   "codemirror_mode": {
    "name": "ipython",
    "version": 3
   },
   "file_extension": ".py",
   "mimetype": "text/x-python",
   "name": "python",
   "nbconvert_exporter": "python",
   "pygments_lexer": "ipython3",
   "version": "3.11.2"
  },
  "orig_nbformat": 4
 },
 "nbformat": 4,
 "nbformat_minor": 2
}
